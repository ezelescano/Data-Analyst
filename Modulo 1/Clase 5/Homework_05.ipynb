{
 "cells": [
  {
   "attachments": {},
   "cell_type": "markdown",
   "metadata": {},
   "source": [
    "## Funciones"
   ]
  },
  {
   "attachments": {},
   "cell_type": "markdown",
   "metadata": {},
   "source": [
    "1. Crea una función que reciba una lista de números y devuelva la suma de todos los elementos."
   ]
  },
  {
   "cell_type": "code",
   "execution_count": 1,
   "metadata": {},
   "outputs": [],
   "source": [
    "\n",
    "def suma_lista(lis) :\n",
    "    result = 0\n",
    "    for numero in lis:\n",
    "        result += numero\n",
    "    return result"
   ]
  },
  {
   "cell_type": "code",
   "execution_count": 2,
   "metadata": {},
   "outputs": [
    {
     "data": {
      "text/plain": [
       "50"
      ]
     },
     "execution_count": 2,
     "metadata": {},
     "output_type": "execute_result"
    }
   ],
   "source": [
    "lis = [23, 12, 15]\n",
    "suma_lista(lis)"
   ]
  },
  {
   "attachments": {},
   "cell_type": "markdown",
   "metadata": {},
   "source": [
    "2) Crear una función que reciba un número como parámetro y devuelva True si es primo y False si no lo es"
   ]
  },
  {
   "cell_type": "code",
   "execution_count": 3,
   "metadata": {},
   "outputs": [],
   "source": [
    "def primo(prim):\n",
    "    inicio = 1\n",
    "    total=0 \n",
    "    while (inicio < prim +1):\n",
    "        if((prim % inicio) == 0):\n",
    "            total = total +1\n",
    "        inicio = inicio+1\n",
    "    if(total == 2):\n",
    "            return True \n",
    "    else:\n",
    "    \n",
    "        return False     "
   ]
  },
  {
   "cell_type": "code",
   "execution_count": 4,
   "metadata": {},
   "outputs": [
    {
     "data": {
      "text/plain": [
       "False"
      ]
     },
     "execution_count": 4,
     "metadata": {},
     "output_type": "execute_result"
    }
   ],
   "source": [
    "primo(4)"
   ]
  },
  {
   "attachments": {},
   "cell_type": "markdown",
   "metadata": {},
   "source": [
    "3) Utilizando la función del punto 2, realizar otra función que reciba de parámetro una lista de números y devuelva sólo aquellos que son primos en otra lista"
   ]
  },
  {
   "cell_type": "code",
   "execution_count": 5,
   "metadata": {},
   "outputs": [],
   "source": [
    "lista_nueva = []\n",
    "def lista_primos(listax):\n",
    "    for elemento in listax:\n",
    "        if(primo(elemento) == True):\n",
    "            lista_nueva.append(elemento)\n",
    "    return lista_nueva"
   ]
  },
  {
   "cell_type": "code",
   "execution_count": 6,
   "metadata": {},
   "outputs": [
    {
     "data": {
      "text/plain": [
       "[2, 3, 5, 7, 11]"
      ]
     },
     "execution_count": 6,
     "metadata": {},
     "output_type": "execute_result"
    }
   ],
   "source": [
    "lista = [2,3,4,5,6,7,8,9,10,11]\n",
    "lista_primos(lista)"
   ]
  },
  {
   "attachments": {},
   "cell_type": "markdown",
   "metadata": {},
   "source": [
    "4) Crear una función que al recibir una lista de números, devuelva el que más se repite y cuántas veces lo hace. Si hay más de un \"más repetido\", que devuelva cualquiera"
   ]
  },
  {
   "cell_type": "code",
   "execution_count": 7,
   "metadata": {},
   "outputs": [],
   "source": [
    "# def mas_repetidos(lista_repe):\n",
    "#     mas_repetidos = 0\n",
    "#     cantidad_de_veces = 0\n",
    "#     for numeros in lista_repe:\n",
    "#         for otro_numero in lista_repe: \n",
    "#             if(numeros == otro_numero):\n",
    "#                 cantidad_de_veces += 1\n",
    "def valor_modal(lista):\n",
    "    lista_unicos = []\n",
    "    lista_repeticiones = []\n",
    "    if len(lista) == 0:\n",
    "        return None\n",
    "    for elemento in lista:\n",
    "        if elemento in lista_unicos:\n",
    "            i = lista_unicos.index(elemento)\n",
    "            lista_repeticiones[i] += 1\n",
    "        else:\n",
    "            lista_unicos.append(elemento)\n",
    "            lista_repeticiones.append(1)\n",
    "    moda = lista_unicos[0]\n",
    "    maximo = lista_repeticiones[0]\n",
    "    for i, elemento in enumerate(lista_unicos):\n",
    "        if lista_repeticiones[i] > maximo:\n",
    "            moda = lista_unicos[i]\n",
    "            maximo = lista_repeticiones[i]\n",
    "    return moda, maximo"
   ]
  },
  {
   "cell_type": "code",
   "execution_count": 8,
   "metadata": {},
   "outputs": [
    {
     "data": {
      "text/plain": [
       "(3, 4)"
      ]
     },
     "execution_count": 8,
     "metadata": {},
     "output_type": "execute_result"
    }
   ],
   "source": [
    "listarepe = [1, 2, 2, 3, 3, 3 , 3, 4, 4, 4, 4]\n",
    "valor_modal(listarepe)"
   ]
  },
  {
   "attachments": {},
   "cell_type": "markdown",
   "metadata": {},
   "source": [
    "5) Crear una función que convierta entre grados Celsius, Farenheit y Kelvin<br>\n",
    "Fórmula 1\t: (°C × 9/5) + 32 = °F<br>\n",
    "Fórmula 2\t: °C + 273.15 = °K<br>\n",
    "Debe recibir 3 parámetros: el valor, la medida de orígen y la medida de destino\n"
   ]
  },
  {
   "cell_type": "code",
   "execution_count": 56,
   "metadata": {},
   "outputs": [],
   "source": [
    "def conversor_de_grados(valor, medida_origen, medida_destino):\n",
    "    if(medida_origen == medida_destino):\n",
    "        return valor\n",
    "    elif(medida_origen == \"celsius\"  and  medida_destino == \"farenheit\" ):\n",
    "        return (valor * 9/5) + 32\n",
    "    elif (medida_origen == \"celsius\" and medida_destino == \"kelvin\"):\n",
    "        return valor + 273.15\n",
    "    elif (medida_destino == \"farenheit\" and medida_destino == \"celsius\"):\n",
    "        result = (valor - 32) * 5/9\n",
    "        return round(result, 2)\n",
    "    elif (medida_origen == \"farenheit\" and medida_destino == \"kelvin\"):\n",
    "        result = ((valor - 32) * 5/9 )+ 273.15\n",
    "        return round(result, 2)\n",
    "    elif(medida_origen == \"kelvin\" and medida_destino == \"celsius\"):\n",
    "        result = valor - 273.15\n",
    "        return round(result, 2)\n",
    "    elif (medida_origen == \"kelvin\" and medida_destino == \"farenheit\"):\n",
    "        result = (valor - 273.15) * 9/5 +32\n",
    "        return round(result, 2)"
   ]
  },
  {
   "cell_type": "code",
   "execution_count": 59,
   "metadata": {},
   "outputs": [],
   "source": [
    "conversor_de_grados(25, \"farenheit\", \"celsius\")"
   ]
  },
  {
   "attachments": {},
   "cell_type": "markdown",
   "metadata": {},
   "source": [
    "6) Iterando una lista con los tres valores posibles de temperatura que recibe la función del punto 5, hacer un print para cada combinación de los mismos:"
   ]
  },
  {
   "cell_type": "code",
   "execution_count": 10,
   "metadata": {},
   "outputs": [],
   "source": [
    "# def iterar_temp(temperaturas):\n",
    "#     for tem in temperaturas:\n",
    "#         if( type(tem) == int):\n",
    "#             result_celsius_farenheit = (tem * 9/5) + 32\n",
    "#             result_celsius_kelvin = tem + 273.15\n",
    "#             result_farenheit_celsius =  (tem - 32) * 5/9\n",
    "#             result_farenheit_kelvin = ((tem - 32) * 5/9 )+ 273.15\n",
    "#             result_kelvin_celsius = tem - 273.15\n",
    "#             result_kelvin_farenheit = (tem - 273.15) * 9/5 +32\n",
    "#         print(f'Suponiendo que {tem} es °C: Pasarlo a °F seria {round(result_celsius_farenheit)}, a °K {round(result_celsius_kelvin)}')\n",
    "#         print(f'Suponiendo que {tem} sea °F: Pasarlo a °C seria {round(result_farenheit_celsius)}, a °K {round(result_farenheit_kelvin)}') \n",
    "#         print(f'Suponiendo que {tem} sea °K: Pasarlo a °C seria {round(result_kelvin_celsius)}, a °F {round(result_kelvin_farenheit)}') \n",
    "    "
   ]
  },
  {
   "cell_type": "code",
   "execution_count": 58,
   "metadata": {},
   "outputs": [
    {
     "name": "stdout",
     "output_type": "stream",
     "text": [
      "Tempertatura 1 grado  celsius  a  celsius  es:  1\n",
      "Tempertatura 1 grado  celsius  a  farenheit  es:  33.8\n",
      "Tempertatura 1 grado  celsius  a  kelvin  es:  274.15\n",
      "Tempertatura 1 grado  farenheit  a  celsius  es:  None\n",
      "Tempertatura 1 grado  farenheit  a  farenheit  es:  1\n",
      "Tempertatura 1 grado  farenheit  a  kelvin  es:  255.93\n",
      "Tempertatura 1 grado  kelvin  a  celsius  es:  -272.15\n",
      "Tempertatura 1 grado  kelvin  a  farenheit  es:  -457.87\n",
      "Tempertatura 1 grado  kelvin  a  kelvin  es:  1\n"
     ]
    }
   ],
   "source": [
    "unidades = [\"celsius\", \"farenheit\", \"kelvin\"]\n",
    "\n",
    "for i in range(0, 3):\n",
    "    for j in range(0, 3):\n",
    "        print(\"Tempertatura 1 grado \", unidades[i], \" a \", unidades[j], \" es: \", conversor_de_grados(1, unidades[i], unidades[j])  )\n",
    "    \n",
    "        \n",
    "          "
   ]
  },
  {
   "attachments": {},
   "cell_type": "markdown",
   "metadata": {},
   "source": [
    "7) Armar una función que devuelva el factorial de un número. Tener en cuenta que el usuario puede equivocarse y enviar de parámetro un número no entero o negativo"
   ]
  },
  {
   "cell_type": "code",
   "execution_count": 63,
   "metadata": {},
   "outputs": [],
   "source": [
    "def factorial(numero):\n",
    "    if(type(numero) ==  float or numero < 0):\n",
    "        print(\"El numero tiene que ser entero y mayor a 0\")\n",
    "    elif (numero <= 1):\n",
    "         return 1\n",
    "    else:\n",
    "        result = numero * factorial(numero - 1)\n",
    "    return result"
   ]
  },
  {
   "cell_type": "code",
   "execution_count": 64,
   "metadata": {},
   "outputs": [
    {
     "data": {
      "text/plain": [
       "120"
      ]
     },
     "execution_count": 64,
     "metadata": {},
     "output_type": "execute_result"
    }
   ],
   "source": [
    "factorial(5)"
   ]
  }
 ],
 "metadata": {
  "interpreter": {
   "hash": "c85384e4cb51c8b72350f3a8712cc8351fdc3955e32a27f9b60c6242ab125f01"
  },
  "kernelspec": {
   "display_name": "Python 3 (ipykernel)",
   "language": "python",
   "name": "python3"
  },
  "language_info": {
   "codemirror_mode": {
    "name": "ipython",
    "version": 3
   },
   "file_extension": ".py",
   "mimetype": "text/x-python",
   "name": "python",
   "nbconvert_exporter": "python",
   "pygments_lexer": "ipython3",
   "version": "3.11.5"
  }
 },
 "nbformat": 4,
 "nbformat_minor": 4
}

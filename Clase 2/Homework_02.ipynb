{
 "cells": [
  {
   "attachments": {},
   "cell_type": "markdown",
   "metadata": {},
   "source": [
    "## Flujos de Control"
   ]
  },
  {
   "attachments": {},
   "cell_type": "markdown",
   "metadata": {},
   "source": [
    "1) Crear una variable que contenga un elemento del conjunto de números enteros y luego imprimir por pantalla si es mayor o menor a cero"
   ]
  },
  {
   "cell_type": "code",
   "execution_count": 1,
   "metadata": {},
   "outputs": [
    {
     "name": "stdout",
     "output_type": "stream",
     "text": [
      "Soy mayor a 0\n"
     ]
    }
   ],
   "source": [
    "a=10\n",
    "if a>0:\n",
    "    print(\"Soy mayor a 0\")\n",
    "elif a<0:\n",
    "    print(\"Soy menor a 0\")\n",
    "else :\n",
    "    print(\"Es igual a 0\")"
   ]
  },
  {
   "attachments": {},
   "cell_type": "markdown",
   "metadata": {},
   "source": [
    "2) Crear dos variables y un condicional que informe si son del mismo tipo de dato"
   ]
  },
  {
   "cell_type": "code",
   "execution_count": 2,
   "metadata": {},
   "outputs": [
    {
     "name": "stdout",
     "output_type": "stream",
     "text": [
      "No son del mismo tipo\n"
     ]
    }
   ],
   "source": [
    "a=5\n",
    "b=\"10\"\n",
    "if type(a)==type(b):\n",
    "    print(\"Son del mismo tipo\")\n",
    "else:\n",
    "    print(\"No son del mismo tipo\")"
   ]
  },
  {
   "attachments": {},
   "cell_type": "markdown",
   "metadata": {},
   "source": [
    "3) Para los valores enteros del 1 al 20, imprimir por pantalla si es par o impar"
   ]
  },
  {
   "cell_type": "code",
   "execution_count": 3,
   "metadata": {},
   "outputs": [
    {
     "name": "stdout",
     "output_type": "stream",
     "text": [
      "El numero 1 es impar\n",
      "El numero 2 es par\n",
      "El numero 3 es impar\n",
      "El numero 4 es par\n",
      "El numero 5 es impar\n",
      "El numero 6 es par\n",
      "El numero 7 es impar\n",
      "El numero 8 es par\n",
      "El numero 9 es impar\n",
      "El numero 10 es par\n",
      "El numero 11 es impar\n",
      "El numero 12 es par\n",
      "El numero 13 es impar\n",
      "El numero 14 es par\n",
      "El numero 15 es impar\n",
      "El numero 16 es par\n",
      "El numero 17 es impar\n",
      "El numero 18 es par\n",
      "El numero 19 es impar\n",
      "El numero 20 es par\n"
     ]
    }
   ],
   "source": [
    "for num in range(1, 21):\n",
    "    if(num % 2 == 0):\n",
    "        print(f\"El numero {num} es par\")\n",
    "    else:\n",
    "        print(f\"El numero {num} es impar\")"
   ]
  },
  {
   "attachments": {},
   "cell_type": "markdown",
   "metadata": {},
   "source": [
    "4) En un ciclo for mostrar para los valores entre 0 y 5 el resultado de elevarlo a la potencia igual a 3"
   ]
  },
  {
   "cell_type": "code",
   "execution_count": 4,
   "metadata": {},
   "outputs": [
    {
     "name": "stdout",
     "output_type": "stream",
     "text": [
      "El resultado es 0\n",
      "El resultado es 1\n",
      "El resultado es 8\n",
      "El resultado es 27\n",
      "El resultado es 64\n"
     ]
    }
   ],
   "source": [
    "for numelev in range(0, 5):\n",
    "    print(f\"El resultado es {numelev**3}\")"
   ]
  },
  {
   "attachments": {},
   "cell_type": "markdown",
   "metadata": {},
   "source": [
    "5) Crear una variable que contenga un número entero y realizar un ciclo for la misma cantidad de ciclos"
   ]
  },
  {
   "cell_type": "code",
   "execution_count": 5,
   "metadata": {},
   "outputs": [
    {
     "name": "stdout",
     "output_type": "stream",
     "text": [
      "0\n",
      "1\n",
      "2\n",
      "3\n",
      "4\n",
      "5\n",
      "6\n",
      "7\n",
      "8\n",
      "9\n"
     ]
    }
   ],
   "source": [
    "a = 10\n",
    "for i in range(a):\n",
    "    print(i)"
   ]
  },
  {
   "attachments": {},
   "cell_type": "markdown",
   "metadata": {},
   "source": [
    "6) Utilizar un ciclo while para realizar el factorial de un número guardado en una variable, sólo si la variable contiene un número entero mayor a 0"
   ]
  },
  {
   "cell_type": "code",
   "execution_count": 6,
   "metadata": {},
   "outputs": [
    {
     "name": "stdout",
     "output_type": "stream",
     "text": [
      "el resultado es  120\n"
     ]
    }
   ],
   "source": [
    "num = 5\n",
    "if type(num) == int:\n",
    "    if(num > 0):\n",
    "        total = num \n",
    "        while (num > 2):\n",
    "            num = num -1\n",
    "            total = total * num\n",
    "        print(\"el resultado es \", total)\n",
    "    \n"
   ]
  },
  {
   "attachments": {},
   "cell_type": "markdown",
   "metadata": {},
   "source": [
    "7) Crear un ciclo for dentro de un ciclo while"
   ]
  },
  {
   "cell_type": "code",
   "execution_count": 7,
   "metadata": {},
   "outputs": [
    {
     "name": "stdout",
     "output_type": "stream",
     "text": [
      "Numero de vuelta  9\n",
      "Numero de vuelta  8\n",
      "Numero de vuelta  7\n",
      "Numero de vuelta  6\n",
      "Numero de vuelta  5\n",
      "Numero de vuelta  4\n",
      "Numero de vuelta  3\n",
      "Numero de vuelta  2\n",
      "Numero de vuelta  1\n",
      "Numero de vuelta  0\n",
      "se termino\n"
     ]
    }
   ],
   "source": [
    "vuelta = 10\n",
    "while (vuelta !=0):\n",
    "    for i in range(10):\n",
    "        vuelta = vuelta - 1\n",
    "        print(\"Numero de vuelta \" , vuelta)\n",
    "print(\"se termino\") "
   ]
  },
  {
   "attachments": {},
   "cell_type": "markdown",
   "metadata": {},
   "source": [
    "8) Crear un ciclo while dentro de un ciclo for"
   ]
  },
  {
   "cell_type": "code",
   "execution_count": 8,
   "metadata": {},
   "outputs": [
    {
     "name": "stdout",
     "output_type": "stream",
     "text": [
      "Soy la posición 1\n",
      "Soy la posición 2\n",
      "Soy la posición 3\n",
      "Soy la posición 4\n",
      "Soy la posición 5\n",
      "Soy la posición 2\n",
      "Soy la posición 3\n",
      "Soy la posición 4\n",
      "Soy la posición 5\n",
      "Soy la posición 3\n",
      "Soy la posición 4\n",
      "Soy la posición 5\n",
      "Soy la posición 4\n",
      "Soy la posición 5\n",
      "Soy la posición 5\n",
      "Terminé\n"
     ]
    }
   ],
   "source": [
    "indice = 5\n",
    "for i in range(indice):\n",
    "    while(i < indice):\n",
    "        i = i + 1\n",
    "        print(f\"Soy la posición {i}\")\n",
    "print(\"Terminé\")"
   ]
  },
  {
   "attachments": {},
   "cell_type": "markdown",
   "metadata": {},
   "source": [
    "9) Imprimir los números primos existentes entre 0 y 30"
   ]
  },
  {
   "cell_type": "code",
   "execution_count": 9,
   "metadata": {},
   "outputs": [
    {
     "name": "stdout",
     "output_type": "stream",
     "text": [
      "El  número 2 es primo\n",
      "El  número 3 es primo\n",
      "El  número 5 es primo\n",
      "El  número 7 es primo\n",
      "El  número 11 es primo\n",
      "El  número 13 es primo\n",
      "El  número 17 es primo\n",
      "El  número 19 es primo\n",
      "El  número 23 es primo\n",
      "El  número 29 es primo\n"
     ]
    }
   ],
   "source": [
    "\n",
    "for prim in range(2, 30):\n",
    "    inicio = 1\n",
    "    total=0 \n",
    "    while (inicio < prim +1):\n",
    "        if((prim % inicio) == 0):\n",
    "            total = total +1\n",
    "        inicio = inicio+1\n",
    "    if(total == 2):\n",
    "            print(f\"El  número {prim} es primo\")"
   ]
  },
  {
   "attachments": {},
   "cell_type": "markdown",
   "metadata": {},
   "source": [
    "10) ¿Se puede mejorar el proceso del punto 9? Utilizar las sentencias break y/ó continue para tal fin"
   ]
  },
  {
   "cell_type": "code",
   "execution_count": 10,
   "metadata": {},
   "outputs": [
    {
     "name": "stdout",
     "output_type": "stream",
     "text": [
      "El  número 2 es primo\n",
      "El  número 3 es primo\n",
      "El  número 5 es primo\n",
      "El  número 7 es primo\n",
      "El  número 11 es primo\n",
      "El  número 13 es primo\n",
      "El  número 17 es primo\n",
      "El  número 19 es primo\n",
      "El  número 23 es primo\n",
      "El  número 29 es primo\n"
     ]
    }
   ],
   "source": [
    "for prim in range(2, 30):\n",
    "    inicio = 1\n",
    "    total=0 \n",
    "    while (inicio < prim +1):\n",
    "        if((prim % inicio) == 0):\n",
    "            total = total +1\n",
    "        inicio = inicio+1\n",
    "    if(total > 2):\n",
    "        continue\n",
    "    else:\n",
    "        print(f\"El  número {prim} es primo\")"
   ]
  },
  {
   "attachments": {},
   "cell_type": "markdown",
   "metadata": {},
   "source": [
    "11) Aplicando continue, armar un ciclo while que solo imprima los valores divisibles por 12, dentro del rango de números de 100 a 300"
   ]
  },
  {
   "cell_type": "code",
   "execution_count": 11,
   "metadata": {},
   "outputs": [
    {
     "name": "stdout",
     "output_type": "stream",
     "text": [
      "108 es divisible por 12\n",
      "120 es divisible por 12\n",
      "132 es divisible por 12\n",
      "144 es divisible por 12\n",
      "156 es divisible por 12\n",
      "168 es divisible por 12\n",
      "180 es divisible por 12\n",
      "192 es divisible por 12\n",
      "204 es divisible por 12\n",
      "216 es divisible por 12\n",
      "228 es divisible por 12\n",
      "240 es divisible por 12\n",
      "252 es divisible por 12\n",
      "264 es divisible por 12\n",
      "276 es divisible por 12\n",
      "288 es divisible por 12\n",
      "300 es divisible por 12\n"
     ]
    }
   ],
   "source": [
    "inicio = 100\n",
    "while(inicio < 300):\n",
    "    inicio = inicio +1   \n",
    "    if((inicio%12) != 0):\n",
    "        continue\n",
    "    print(f\"{inicio} es divisible por 12\")\n"
   ]
  },
  {
   "attachments": {},
   "cell_type": "markdown",
   "metadata": {},
   "source": [
    "12) Crear un ciclo while que encuentre dentro del rango de 100 a 300 el primer número divisible por 3 y además múltiplo de 6"
   ]
  },
  {
   "cell_type": "code",
   "execution_count": 12,
   "metadata": {},
   "outputs": [
    {
     "name": "stdout",
     "output_type": "stream",
     "text": [
      "el numero divisible por 3 y multiplo de 6 es 102\n"
     ]
    }
   ],
   "source": [
    "inicio= 100 \n",
    "while((inicio % 3) != 0 and (inicio % 6) != 0 and inicio < 300):\n",
    "    inicio += 1\n",
    "    continue\n",
    "else :\n",
    "    print(f\"el numero divisible por 3 y multiplo de 6 es {inicio}\")"
   ]
  }
 ],
 "metadata": {
  "interpreter": {
   "hash": "c85384e4cb51c8b72350f3a8712cc8351fdc3955e32a27f9b60c6242ab125f01"
  },
  "kernelspec": {
   "display_name": "Python 3 (ipykernel)",
   "language": "python",
   "name": "python3"
  },
  "language_info": {
   "codemirror_mode": {
    "name": "ipython",
    "version": 3
   },
   "file_extension": ".py",
   "mimetype": "text/x-python",
   "name": "python",
   "nbconvert_exporter": "python",
   "pygments_lexer": "ipython3",
   "version": "3.11.4"
  }
 },
 "nbformat": 4,
 "nbformat_minor": 4
}

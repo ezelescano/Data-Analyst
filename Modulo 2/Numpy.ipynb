{
 "cells": [
  {
   "cell_type": "code",
   "execution_count": 13,
   "metadata": {},
   "outputs": [],
   "source": [
    "import numpy as np"
   ]
  },
  {
   "cell_type": "code",
   "execution_count": 14,
   "metadata": {},
   "outputs": [],
   "source": [
    "# Numpy es la sigla numerical Python\n",
    "# tenemos librerias que vienen al instalar python, pero hay otras librerias externas que tenemos que instalar\n",
    "# pip es un seitema de gestion de paquetes\n",
    "# tenemos varias estructiras de datos, una de ellas son lo arrays\n",
    "# Array escalar como temperaturas\n",
    "# bidimencional son matrices\n",
    "# array de mas de 3 dimensciones que se los reconoce como tensor\n"
   ]
  },
  {
   "cell_type": "code",
   "execution_count": 15,
   "metadata": {},
   "outputs": [
    {
     "name": "stdout",
     "output_type": "stream",
     "text": [
      "[1 2 3 4 5 6]\n",
      "[1, 2, 3, 4, 5, 6]\n"
     ]
    }
   ],
   "source": [
    "# asi se empiexan a trbajar con arrays\n",
    "my_list = [1, 2, 3, 4, 5, 6]\n",
    "arr = np.array(my_list)\n",
    "print(arr)\n",
    "print(my_list)"
   ]
  },
  {
   "cell_type": "code",
   "execution_count": 16,
   "metadata": {},
   "outputs": [
    {
     "name": "stdout",
     "output_type": "stream",
     "text": [
      "[ 1  2  3  4  5  6  7  8  9 10]\n"
     ]
    }
   ],
   "source": [
    "arr = np.arange(start=1, stop=11, step=1) #el arange no toma el ultima posicion\n",
    "print(arr)"
   ]
  },
  {
   "cell_type": "code",
   "execution_count": 17,
   "metadata": {},
   "outputs": [
    {
     "name": "stdout",
     "output_type": "stream",
     "text": [
      "[ 1.          1.98989899  2.97979798  3.96969697  4.95959596  5.94949495\n",
      "  6.93939394  7.92929293  8.91919192  9.90909091 10.8989899  11.88888889\n",
      " 12.87878788 13.86868687 14.85858586 15.84848485 16.83838384 17.82828283\n",
      " 18.81818182 19.80808081 20.7979798  21.78787879 22.77777778 23.76767677\n",
      " 24.75757576 25.74747475 26.73737374 27.72727273 28.71717172 29.70707071\n",
      " 30.6969697  31.68686869 32.67676768 33.66666667 34.65656566 35.64646465\n",
      " 36.63636364 37.62626263 38.61616162 39.60606061 40.5959596  41.58585859\n",
      " 42.57575758 43.56565657 44.55555556 45.54545455 46.53535354 47.52525253\n",
      " 48.51515152 49.50505051 50.49494949 51.48484848 52.47474747 53.46464646\n",
      " 54.45454545 55.44444444 56.43434343 57.42424242 58.41414141 59.4040404\n",
      " 60.39393939 61.38383838 62.37373737 63.36363636 64.35353535 65.34343434\n",
      " 66.33333333 67.32323232 68.31313131 69.3030303  70.29292929 71.28282828\n",
      " 72.27272727 73.26262626 74.25252525 75.24242424 76.23232323 77.22222222\n",
      " 78.21212121 79.2020202  80.19191919 81.18181818 82.17171717 83.16161616\n",
      " 84.15151515 85.14141414 86.13131313 87.12121212 88.11111111 89.1010101\n",
      " 90.09090909 91.08080808 92.07070707 93.06060606 94.05050505 95.04040404\n",
      " 96.03030303 97.02020202 98.01010101 99.        ]\n"
     ]
    }
   ],
   "source": [
    "arr = np.linspace(start=1, stop=99, num=100) #si tuene en cuenta el ultimo elemento\n",
    "print(arr)"
   ]
  },
  {
   "cell_type": "code",
   "execution_count": 19,
   "metadata": {},
   "outputs": [
    {
     "name": "stdout",
     "output_type": "stream",
     "text": [
      "[0. 0. 0. 0. 0. 0. 0. 0. 0. 0.]\n"
     ]
    }
   ],
   "source": [
    "arr = np.zeros(10)\n",
    "print(arr)\n",
    "#crea un array de ceros"
   ]
  },
  {
   "cell_type": "code",
   "execution_count": null,
   "metadata": {},
   "outputs": [],
   "source": []
  }
 ],
 "metadata": {
  "kernelspec": {
   "display_name": "Python 3",
   "language": "python",
   "name": "python3"
  },
  "language_info": {
   "codemirror_mode": {
    "name": "ipython",
    "version": 3
   },
   "file_extension": ".py",
   "mimetype": "text/x-python",
   "name": "python",
   "nbconvert_exporter": "python",
   "pygments_lexer": "ipython3",
   "version": "3.11.5"
  },
  "orig_nbformat": 4
 },
 "nbformat": 4,
 "nbformat_minor": 2
}

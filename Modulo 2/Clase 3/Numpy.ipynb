{
 "cells": [
  {
   "cell_type": "code",
   "execution_count": 1,
   "metadata": {},
   "outputs": [],
   "source": [
    "import numpy as np"
   ]
  },
  {
   "cell_type": "code",
   "execution_count": 2,
   "metadata": {},
   "outputs": [],
   "source": [
    "# Numpy es la sigla numerical Python\n",
    "# tenemos librerias que vienen al instalar python, pero hay otras librerias externas que tenemos que instalar\n",
    "# pip es un seitema de gestion de paquetes\n",
    "# tenemos varias estructiras de datos, una de ellas son lo arrays\n",
    "# Array escalar como temperaturas\n",
    "# bidimencional son matrices\n",
    "# array de mas de 3 dimensciones que se los reconoce como tensor\n"
   ]
  },
  {
   "cell_type": "code",
   "execution_count": 3,
   "metadata": {},
   "outputs": [
    {
     "name": "stdout",
     "output_type": "stream",
     "text": [
      "[1 2 3 4 5 6]\n",
      "[1, 2, 3, 4, 5, 6]\n"
     ]
    }
   ],
   "source": [
    "# asi se empiexan a trbajar con arrays\n",
    "my_list = [1, 2, 3, 4, 5, 6]\n",
    "arr = np.array(my_list)\n",
    "print(arr)\n",
    "print(my_list)"
   ]
  },
  {
   "cell_type": "code",
   "execution_count": 4,
   "metadata": {},
   "outputs": [
    {
     "name": "stdout",
     "output_type": "stream",
     "text": [
      "[ 1  2  3  4  5  6  7  8  9 10]\n"
     ]
    }
   ],
   "source": [
    "arr = np.arange(start=1, stop=11, step=1) #el arange no toma el ultima posicion\n",
    "print(arr)"
   ]
  },
  {
   "cell_type": "code",
   "execution_count": 5,
   "metadata": {},
   "outputs": [
    {
     "name": "stdout",
     "output_type": "stream",
     "text": [
      "[ 1.          1.98989899  2.97979798  3.96969697  4.95959596  5.94949495\n",
      "  6.93939394  7.92929293  8.91919192  9.90909091 10.8989899  11.88888889\n",
      " 12.87878788 13.86868687 14.85858586 15.84848485 16.83838384 17.82828283\n",
      " 18.81818182 19.80808081 20.7979798  21.78787879 22.77777778 23.76767677\n",
      " 24.75757576 25.74747475 26.73737374 27.72727273 28.71717172 29.70707071\n",
      " 30.6969697  31.68686869 32.67676768 33.66666667 34.65656566 35.64646465\n",
      " 36.63636364 37.62626263 38.61616162 39.60606061 40.5959596  41.58585859\n",
      " 42.57575758 43.56565657 44.55555556 45.54545455 46.53535354 47.52525253\n",
      " 48.51515152 49.50505051 50.49494949 51.48484848 52.47474747 53.46464646\n",
      " 54.45454545 55.44444444 56.43434343 57.42424242 58.41414141 59.4040404\n",
      " 60.39393939 61.38383838 62.37373737 63.36363636 64.35353535 65.34343434\n",
      " 66.33333333 67.32323232 68.31313131 69.3030303  70.29292929 71.28282828\n",
      " 72.27272727 73.26262626 74.25252525 75.24242424 76.23232323 77.22222222\n",
      " 78.21212121 79.2020202  80.19191919 81.18181818 82.17171717 83.16161616\n",
      " 84.15151515 85.14141414 86.13131313 87.12121212 88.11111111 89.1010101\n",
      " 90.09090909 91.08080808 92.07070707 93.06060606 94.05050505 95.04040404\n",
      " 96.03030303 97.02020202 98.01010101 99.        ]\n"
     ]
    }
   ],
   "source": [
    "arr = np.linspace(start=1, stop=99, num=100) #si tuene en cuenta el ultimo elemento\n",
    "print(arr)"
   ]
  },
  {
   "cell_type": "code",
   "execution_count": 6,
   "metadata": {},
   "outputs": [
    {
     "name": "stdout",
     "output_type": "stream",
     "text": [
      "[0. 0. 0. 0. 0. 0. 0. 0. 0. 0.]\n"
     ]
    }
   ],
   "source": [
    "arr = np.zeros(10)\n",
    "print(arr)\n",
    "#crea un array de ceros"
   ]
  },
  {
   "cell_type": "code",
   "execution_count": 8,
   "metadata": {},
   "outputs": [
    {
     "name": "stdout",
     "output_type": "stream",
     "text": [
      "[ 2  5  6 23]\n",
      "[[2 4]\n",
      " [6 8]]\n",
      "[0 1 2 3 4]\n"
     ]
    }
   ],
   "source": [
    "my_first_vector = np.array([2, 5, 6, 23])\n",
    "print(my_first_vector)\n",
    "# [ 2  5  6 23]\n",
    "\n",
    "my_first_matrix = np.array([[2, 4,], [6, 8]])\n",
    "print(my_first_matrix)\n",
    "# [[2 4]\n",
    "#  [6 8]]\n",
    "my_list = [0, 1, 2, 3, 4]\n",
    "print(np.array(my_list))\n",
    "# [0 1 2 3 4]"
   ]
  },
  {
   "cell_type": "code",
   "execution_count": 9,
   "metadata": {},
   "outputs": [
    {
     "name": "stdout",
     "output_type": "stream",
     "text": [
      "[2 4 6 8]\n",
      "[11  9  7  5  3]\n"
     ]
    }
   ],
   "source": [
    "print(np.arange(start=2, stop=10, step=2))\n",
    "print(np.arange(11, 1, -2))"
   ]
  },
  {
   "cell_type": "code",
   "execution_count": 11,
   "metadata": {},
   "outputs": [
    {
     "name": "stdout",
     "output_type": "stream",
     "text": [
      "[11.         11.05882353 11.11764706 11.17647059 11.23529412 11.29411765\n",
      " 11.35294118 11.41176471 11.47058824 11.52941176 11.58823529 11.64705882\n",
      " 11.70588235 11.76470588 11.82352941 11.88235294 11.94117647 12.        ]\n",
      "[0.  0.1 0.2 0.3 0.4 0.5 0.6 0.7 0.8 0.9 1. ]\n"
     ]
    }
   ],
   "source": [
    "print(np.linspace(start=11, stop=12, num=18))\n",
    "print(np.linspace(0, 1, 11))"
   ]
  },
  {
   "cell_type": "code",
   "execution_count": 13,
   "metadata": {},
   "outputs": [
    {
     "name": "stdout",
     "output_type": "stream",
     "text": [
      "[[0.91314589 0.04557959]\n",
      " [0.48049798 0.67776853]]\n",
      "[0.89151534 0.27430882 0.62886018 0.81145494 0.68992049 0.08962021]\n"
     ]
    }
   ],
   "source": [
    "print(np.random.rand(2, 2))\n",
    "print(np.random.uniform(low=0, high=1, size=6))"
   ]
  },
  {
   "cell_type": "code",
   "execution_count": 14,
   "metadata": {},
   "outputs": [
    {
     "name": "stdout",
     "output_type": "stream",
     "text": [
      "[[ 0.49084591  0.03102293]\n",
      " [-0.56735531 -0.63944594]]\n"
     ]
    }
   ],
   "source": [
    "print(np.random.randn(2, 2))\n"
   ]
  },
  {
   "cell_type": "code",
   "execution_count": 15,
   "metadata": {},
   "outputs": [
    {
     "name": "stdout",
     "output_type": "stream",
     "text": [
      "[ 1.7691824   0.75594934  2.24943626  2.71796663 -1.8976645  -0.49277425]\n"
     ]
    }
   ],
   "source": [
    "print(np.random.normal(loc=0, scale=2, size=6))"
   ]
  },
  {
   "cell_type": "code",
   "execution_count": 17,
   "metadata": {},
   "outputs": [
    {
     "name": "stdout",
     "output_type": "stream",
     "text": [
      "[[5 2 1]\n",
      " [3 1 0]\n",
      " [3 6 4]]\n",
      "[30 15 21 28 29  8 57 14 40 76]\n"
     ]
    }
   ],
   "source": [
    "print(np.random.randint(low=0, high=10, size=(3, 3)))\n",
    "print(np.random.randint(1,100,10))"
   ]
  },
  {
   "cell_type": "code",
   "execution_count": 20,
   "metadata": {},
   "outputs": [
    {
     "name": "stdout",
     "output_type": "stream",
     "text": [
      "[1 2 3 4 5 6 7 8 9]\n"
     ]
    }
   ],
   "source": [
    "a = np.arange(1,10)\n",
    "print(a)"
   ]
  },
  {
   "cell_type": "code",
   "execution_count": 21,
   "metadata": {},
   "outputs": [
    {
     "name": "stdout",
     "output_type": "stream",
     "text": [
      "[[1 2 3]\n",
      " [4 5 6]\n",
      " [7 8 9]]\n"
     ]
    }
   ],
   "source": [
    "B = np.reshape(a, [3,3])\n",
    "print(B)"
   ]
  },
  {
   "cell_type": "code",
   "execution_count": 23,
   "metadata": {},
   "outputs": [
    {
     "name": "stdout",
     "output_type": "stream",
     "text": [
      "int32\n"
     ]
    }
   ],
   "source": [
    "print(B.dtype)\n",
    "# int64"
   ]
  },
  {
   "cell_type": "code",
   "execution_count": 24,
   "metadata": {},
   "outputs": [
    {
     "name": "stdout",
     "output_type": "stream",
     "text": [
      "[ 0  1  2  3  4  5  6  7  8  9 10 11 12 13 14 15 16 17 18 19]\n"
     ]
    }
   ],
   "source": [
    "a = np.arange(0,20)\n",
    "print(a)"
   ]
  },
  {
   "cell_type": "code",
   "execution_count": 25,
   "metadata": {},
   "outputs": [
    {
     "name": "stdout",
     "output_type": "stream",
     "text": [
      "[[ 0  1  2  3  4  5  6  7  8  9]\n",
      " [10 11 12 13 14 15 16 17 18 19]]\n"
     ]
    }
   ],
   "source": [
    "b = np.reshape(a, [2,10])\n",
    "print(b)"
   ]
  },
  {
   "cell_type": "code",
   "execution_count": 26,
   "metadata": {},
   "outputs": [
    {
     "name": "stdout",
     "output_type": "stream",
     "text": [
      "[[[ 0  1  2  3  4]\n",
      "  [ 5  6  7  8  9]]\n",
      "\n",
      " [[10 11 12 13 14]\n",
      "  [15 16 17 18 19]]]\n"
     ]
    }
   ],
   "source": [
    "c = np.reshape(a, [2,2,5])\n",
    "print(c)"
   ]
  },
  {
   "cell_type": "code",
   "execution_count": 27,
   "metadata": {},
   "outputs": [
    {
     "name": "stdout",
     "output_type": "stream",
     "text": [
      "[ 0  1  2  3  4  5  6  7  8  9 10 11 12 13 14 15 16 17 18 19]\n"
     ]
    }
   ],
   "source": [
    "d = c.flatten()\n",
    "print(d)"
   ]
  },
  {
   "cell_type": "code",
   "execution_count": 28,
   "metadata": {},
   "outputs": [
    {
     "data": {
      "text/plain": [
       "(20,)"
      ]
     },
     "execution_count": 28,
     "metadata": {},
     "output_type": "execute_result"
    }
   ],
   "source": [
    "d.shape"
   ]
  },
  {
   "cell_type": "code",
   "execution_count": 29,
   "metadata": {},
   "outputs": [
    {
     "data": {
      "text/plain": [
       "(20,)"
      ]
     },
     "execution_count": 29,
     "metadata": {},
     "output_type": "execute_result"
    }
   ],
   "source": [
    "a.shape"
   ]
  },
  {
   "cell_type": "code",
   "execution_count": 30,
   "metadata": {},
   "outputs": [
    {
     "name": "stdout",
     "output_type": "stream",
     "text": [
      "[[0 1 2]\n",
      " [3 4 5]\n",
      " [6 7 8]]\n"
     ]
    }
   ],
   "source": [
    "matrix_cool = np.arange(9).reshape(3, 3)\n",
    "print(matrix_cool)"
   ]
  },
  {
   "cell_type": "code",
   "execution_count": 31,
   "metadata": {},
   "outputs": [
    {
     "name": "stdout",
     "output_type": "stream",
     "text": [
      "5\n"
     ]
    }
   ],
   "source": [
    "print(matrix_cool[1, 2])"
   ]
  },
  {
   "cell_type": "code",
   "execution_count": 32,
   "metadata": {},
   "outputs": [
    {
     "name": "stdout",
     "output_type": "stream",
     "text": [
      "[0 1 2]\n"
     ]
    }
   ],
   "source": [
    "print(matrix_cool[0, :])"
   ]
  },
  {
   "cell_type": "code",
   "execution_count": 33,
   "metadata": {},
   "outputs": [
    {
     "name": "stdout",
     "output_type": "stream",
     "text": [
      "[1 4 7]\n"
     ]
    }
   ],
   "source": [
    "print(matrix_cool[:, 1])"
   ]
  },
  {
   "cell_type": "code",
   "execution_count": 34,
   "metadata": {},
   "outputs": [
    {
     "name": "stdout",
     "output_type": "stream",
     "text": [
      "[[1 2]\n",
      " [4 5]\n",
      " [7 8]]\n"
     ]
    }
   ],
   "source": [
    "print(matrix_cool[:, 1:])"
   ]
  },
  {
   "cell_type": "code",
   "execution_count": 35,
   "metadata": {},
   "outputs": [
    {
     "name": "stdout",
     "output_type": "stream",
     "text": [
      "[[0 1]\n",
      " [3 4]]\n"
     ]
    }
   ],
   "source": [
    "print(matrix_cool[0:2, 0:2])"
   ]
  },
  {
   "cell_type": "code",
   "execution_count": 36,
   "metadata": {},
   "outputs": [
    {
     "name": "stdout",
     "output_type": "stream",
     "text": [
      "[[0 1 2]\n",
      " [3 4 5]\n",
      " [6 7 8]]\n"
     ]
    }
   ],
   "source": [
    "print(matrix_cool[:, :])"
   ]
  },
  {
   "cell_type": "code",
   "execution_count": 37,
   "metadata": {},
   "outputs": [
    {
     "name": "stdout",
     "output_type": "stream",
     "text": [
      "[[0 1 2]\n",
      " [3 4 5]\n",
      " [6 7 8]]\n"
     ]
    }
   ],
   "source": [
    "matrix_cool = np.arange(9).reshape(3, 3)\n",
    "print(matrix_cool)"
   ]
  },
  {
   "cell_type": "code",
   "execution_count": 38,
   "metadata": {},
   "outputs": [
    {
     "name": "stdout",
     "output_type": "stream",
     "text": [
      "5\n"
     ]
    }
   ],
   "source": [
    "print(matrix_cool[1, 2])"
   ]
  },
  {
   "cell_type": "code",
   "execution_count": 39,
   "metadata": {},
   "outputs": [
    {
     "name": "stdout",
     "output_type": "stream",
     "text": [
      "[1 4 7]\n"
     ]
    }
   ],
   "source": [
    "print(matrix_cool[:, 1])"
   ]
  },
  {
   "cell_type": "code",
   "execution_count": 40,
   "metadata": {},
   "outputs": [
    {
     "name": "stdout",
     "output_type": "stream",
     "text": [
      "[[1 2]\n",
      " [4 5]\n",
      " [7 8]]\n"
     ]
    }
   ],
   "source": [
    "print(matrix_cool[:, 1:])"
   ]
  },
  {
   "cell_type": "code",
   "execution_count": 41,
   "metadata": {},
   "outputs": [
    {
     "name": "stdout",
     "output_type": "stream",
     "text": [
      "[[0 1]\n",
      " [3 4]]\n"
     ]
    }
   ],
   "source": [
    "print(matrix_cool[0:2, 0:2])"
   ]
  },
  {
   "cell_type": "code",
   "execution_count": 42,
   "metadata": {},
   "outputs": [
    {
     "name": "stdout",
     "output_type": "stream",
     "text": [
      "[[0 1 2]\n",
      " [3 4 5]\n",
      " [6 7 8]]\n"
     ]
    }
   ],
   "source": [
    "print(matrix_cool[:, :])"
   ]
  },
  {
   "cell_type": "code",
   "execution_count": 43,
   "metadata": {},
   "outputs": [
    {
     "name": "stdout",
     "output_type": "stream",
     "text": [
      "[8 4 6]\n",
      "[2 4 6]\n"
     ]
    }
   ],
   "source": [
    "a1 = np.array([2, 4, 6])\n",
    "a2 = a1.copy()\n",
    "a1[0] = 8\n",
    "print(a1)\n",
    "print(a2)"
   ]
  },
  {
   "cell_type": "code",
   "execution_count": 44,
   "metadata": {},
   "outputs": [
    {
     "name": "stdout",
     "output_type": "stream",
     "text": [
      "[8 4 6]\n",
      "[8 4 6]\n"
     ]
    }
   ],
   "source": [
    "a1 = np.array([2, 4, 6])\n",
    "a2 = a1         # Sin colocar copy()\n",
    "a1[0] = 8\n",
    "print(a1)\n",
    "print(a2)\n"
   ]
  },
  {
   "cell_type": "code",
   "execution_count": 46,
   "metadata": {},
   "outputs": [
    {
     "name": "stdout",
     "output_type": "stream",
     "text": [
      "[ 5  6  7  8  9 10]\n",
      "[15 16 17 18 19 20]\n"
     ]
    }
   ],
   "source": [
    "A = np.arange(5, 11)\n",
    "print(A)\n",
    "print(A + 10)\n"
   ]
  },
  {
   "cell_type": "code",
   "execution_count": 48,
   "metadata": {},
   "outputs": [
    {
     "name": "stdout",
     "output_type": "stream",
     "text": [
      "[3 3 3 3]\n",
      "[1 1 1 1]\n",
      "[2 2 2 2]\n"
     ]
    }
   ],
   "source": [
    "B = np.full(4, 3)\n",
    "C = np.ones(4, dtype='int')\n",
    "print(B)\n",
    "print(C)\n",
    "print(B - C)"
   ]
  },
  {
   "cell_type": "code",
   "execution_count": 49,
   "metadata": {},
   "outputs": [
    {
     "data": {
      "text/plain": [
       "array([[ 5, 18, 31,  4, 41],\n",
       "       [ 5, 18, 31,  4, 41],\n",
       "       [ 5, 18, 31,  4, 41]])"
      ]
     },
     "execution_count": 49,
     "metadata": {},
     "output_type": "execute_result"
    }
   ],
   "source": [
    "a = np.array([[2,3],[2,3],[2,3]])\n",
    "a.shape\n",
    "\n",
    "b = np.array([[1,6,5,2,7],[1,2,7,0,9]])\n",
    "b.shape\n",
    "\n",
    "np.matmul(a,b)\n",
    "\n",
    "a@b #Similar a usar matmul()\n"
   ]
  },
  {
   "cell_type": "code",
   "execution_count": 50,
   "metadata": {},
   "outputs": [
    {
     "data": {
      "text/plain": [
       "matrix([[1, 2, 3]])"
      ]
     },
     "execution_count": 50,
     "metadata": {},
     "output_type": "execute_result"
    }
   ],
   "source": [
    "np.array([[1,2,3]])\n",
    "\n",
    "np.array([1,2,3])\n",
    "\n",
    "np.mat([1,2,3])\n"
   ]
  },
  {
   "cell_type": "code",
   "execution_count": 51,
   "metadata": {},
   "outputs": [
    {
     "data": {
      "text/plain": [
       "matrix([[-0.94444444,  0.44444444],\n",
       "        [-0.11111111,  0.11111111],\n",
       "        [ 0.72222222, -0.22222222]])"
      ]
     },
     "execution_count": 51,
     "metadata": {},
     "output_type": "execute_result"
    }
   ],
   "source": [
    "a = np.array([[1,2,3],[4,5,6]])\n",
    "m = np.mat([(1,2,3),(4,5,6)])\n",
    "a.T\n",
    "\n",
    "m.T\n",
    "m.H\n",
    "\n",
    "m.I\n"
   ]
  },
  {
   "cell_type": "code",
   "execution_count": 52,
   "metadata": {},
   "outputs": [
    {
     "data": {
      "text/plain": [
       "(2, 1)"
      ]
     },
     "execution_count": 52,
     "metadata": {},
     "output_type": "execute_result"
    }
   ],
   "source": [
    "a = np.array([[1,2,3],[4,5,6]])\n",
    "m = np.mat([(1,2,3),(4,5,6)])\n",
    "a[:, 0]\n",
    "\n",
    "m[:, 0]\n",
    "\n",
    "a[:, 0].shape\n",
    "\n",
    "m[:, 0].shape\n"
   ]
  },
  {
   "cell_type": "code",
   "execution_count": 53,
   "metadata": {},
   "outputs": [
    {
     "name": "stdout",
     "output_type": "stream",
     "text": [
      "a     = [0 1 2 3]\n",
      "a + 5 = [5 6 7 8]\n",
      "a - 5 = [-5 -4 -3 -2]\n",
      "a * 2 = [0 2 4 6]\n",
      "a / 2 = [0.  0.5 1.  1.5]\n",
      "a // 2 = [0 0 1 1]\n",
      "-a     =  [ 0 -1 -2 -3]\n",
      "a ** 2 =  [0 1 4 9]\n",
      "a % 2  =  [0 1 0 1]\n"
     ]
    }
   ],
   "source": [
    "# Aritmetica\n",
    "a = np.arange(4)\n",
    " \n",
    "print(\"a     =\", a)\n",
    "\n",
    "print(\"a + 5 =\", a + 5)\n",
    "\n",
    "print(\"a - 5 =\", a - 5)\n",
    "\n",
    "print(\"a * 2 =\", a * 2)\n",
    "\n",
    "print(\"a / 2 =\", a / 2)\n",
    "\n",
    "print(\"a // 2 =\", a // 2)  \n",
    "\n",
    "print(\"-a     = \", -a)\n",
    "\n",
    "print(\"a ** 2 = \", a ** 2)\n",
    "print(\"a % 2  = \", a % 2)\n"
   ]
  },
  {
   "cell_type": "code",
   "execution_count": 54,
   "metadata": {},
   "outputs": [
    {
     "name": "stdout",
     "output_type": "stream",
     "text": [
      "73.1923076923077\n",
      "73.0\n",
      "2.572326554954764\n",
      "76.0\n"
     ]
    }
   ],
   "source": [
    "height_list = [74, 74, 72, 72, 73, 69, 69, 71, 76, 71, 73, 73, 74, 74, 69, 70, 73, 75, 78, 79, 76, 74, 76, 72, 71, 75]\n",
    "print(np.mean(height_list))\n",
    "\n",
    "print(np.median(height_list))\n",
    "\n",
    "print(np.std(height_list))\n",
    "\n",
    "print(np.percentile(height_list,90))\n"
   ]
  },
  {
   "cell_type": "code",
   "execution_count": 55,
   "metadata": {},
   "outputs": [
    {
     "name": "stdout",
     "output_type": "stream",
     "text": [
      "79\n",
      "69\n"
     ]
    }
   ],
   "source": [
    "print(np.max(height_list))\n",
    "\n",
    "print(np.min(height_list))\n"
   ]
  },
  {
   "cell_type": "code",
   "execution_count": 56,
   "metadata": {},
   "outputs": [
    {
     "data": {
      "text/plain": [
       "array([ 1.        ,  2.71828183,  7.3890561 , 20.08553692])"
      ]
     },
     "metadata": {},
     "output_type": "display_data"
    },
    {
     "data": {
      "text/plain": [
       "array([0.        , 0.69314718, 1.09861229, 1.38629436])"
      ]
     },
     "metadata": {},
     "output_type": "display_data"
    },
    {
     "data": {
      "text/plain": [
       "array([0.        , 1.        , 1.41421356, 1.73205081])"
      ]
     },
     "metadata": {},
     "output_type": "display_data"
    },
    {
     "data": {
      "text/plain": [
       "array([False, False, False, False])"
      ]
     },
     "metadata": {},
     "output_type": "display_data"
    }
   ],
   "source": [
    "# Otras ufuncs interesantes\n",
    "a = np.arange(4)\n",
    "b = np.arange(1,5)\n",
    " \n",
    "display(np.exp(a))         # exponencial\n",
    "\n",
    "display(np.log(b))         # logaritmo natural\n",
    "\n",
    "display(np.sqrt(a))        # raiz cuadrada\n",
    "\n",
    "display(np.greater(a,b))   # superior o igual punto a punto\n"
   ]
  },
  {
   "cell_type": "code",
   "execution_count": 58,
   "metadata": {},
   "outputs": [
    {
     "name": "stdout",
     "output_type": "stream",
     "text": [
      "763 ms ± 64.9 ms per loop (mean ± std. dev. of 7 runs, 1 loop each)\n"
     ]
    }
   ],
   "source": [
    "%%timeit\n",
    "a = np.arange(1000000)\n",
    "b = np.zeros(1000000)\n",
    "i = 0\n",
    "for el in a:\n",
    "     b[i] = el+el\n",
    "     i+=1 \n",
    "a = np.arange(1000000)\n",
    "b = np.zeros(1000000)\n",
    "b=a+a\n"
   ]
  },
  {
   "cell_type": "code",
   "execution_count": 62,
   "metadata": {},
   "outputs": [
    {
     "name": "stdout",
     "output_type": "stream",
     "text": [
      "Tipo: object\n",
      "138 ms ± 12.4 ms per loop (mean ± std. dev. of 7 runs, 10 loops each)\n",
      "\n",
      "Tipo: int\n",
      "13 ms ± 1.06 ms per loop (mean ± std. dev. of 7 runs, 100 loops each)\n",
      "\n"
     ]
    }
   ],
   "source": [
    "val1 = np.array([1, None, 2, 3])\n",
    "val1\n",
    "\n",
    "val2 = np.array([1, np.nan, 3, 4])\n",
    "val2\n",
    "\n",
    "val2.dtype\n",
    "   \n",
    "for tipo in ['object','int']:\n",
    "     print(\"Tipo:\", tipo)\n",
    "     %timeit np.arange(1E6, dtype=tipo).sum()\n",
    "     print()"
   ]
  },
  {
   "cell_type": "code",
   "execution_count": 64,
   "metadata": {},
   "outputs": [
    {
     "name": "stdout",
     "output_type": "stream",
     "text": [
      "[[ 0  1  2  3  4  5  6  7  8  9]\n",
      " [10 11 12 13 14 15 16 17 18 19]]\n",
      "[[ True False  True False  True False  True False  True False]\n",
      " [ True False  True False  True False  True False  True False]]\n"
     ]
    },
    {
     "data": {
      "text/plain": [
       "array([ 0,  2,  4,  6,  8, 10, 12, 14, 16, 18])"
      ]
     },
     "execution_count": 64,
     "metadata": {},
     "output_type": "execute_result"
    }
   ],
   "source": [
    "\n",
    "a = np.arange(0,20).reshape(2,10)\n",
    "print(a)\n",
    "\n",
    "\n",
    "mascara = ((a % 2) == 0)\n",
    "print(mascara)\n",
    "a[mascara]\n"
   ]
  }
 ],
 "metadata": {
  "kernelspec": {
   "display_name": "Python 3",
   "language": "python",
   "name": "python3"
  },
  "language_info": {
   "codemirror_mode": {
    "name": "ipython",
    "version": 3
   },
   "file_extension": ".py",
   "mimetype": "text/x-python",
   "name": "python",
   "nbconvert_exporter": "python",
   "pygments_lexer": "ipython3",
   "version": "3.11.5"
  },
  "orig_nbformat": 4
 },
 "nbformat": 4,
 "nbformat_minor": 2
}

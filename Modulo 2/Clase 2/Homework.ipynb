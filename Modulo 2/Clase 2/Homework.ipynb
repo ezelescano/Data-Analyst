{
 "cells": [
  {
   "cell_type": "markdown",
   "metadata": {},
   "source": [
    "# Práctica Clase 2"
   ]
  },
  {
   "cell_type": "markdown",
   "metadata": {},
   "source": [
    "1) Abrir el archivo \"Emisiones_CO2.csv\" y cargar sus datos en un diccionario."
   ]
  },
  {
   "cell_type": "code",
   "execution_count": 176,
   "metadata": {},
   "outputs": [],
   "source": [
    "archivo = open('Emisiones_CO2.csv', 'r')\n"
   ]
  },
  {
   "cell_type": "code",
   "execution_count": 177,
   "metadata": {},
   "outputs": [],
   "source": [
    "dicc_emisiones = {  'cod_pais' : [],\n",
    "                    'nom_pais' : [],\n",
    "                    'region' : [],\n",
    "                    'anio' : [],\n",
    "                    'co2' : [],\n",
    "                    'co2_percapita' : []}\n"
   ]
  },
  {
   "cell_type": "code",
   "execution_count": 178,
   "metadata": {},
   "outputs": [],
   "source": [
    "next(archivo)\n",
    "for linea in archivo:\n",
    "    linea = linea.strip()\n",
    "    campos = linea.split('|')\n",
    "    dicc_emisiones['cod_pais'].append(campos[0])\n",
    "    dicc_emisiones['nom_pais'].append(campos[1])\n",
    "    dicc_emisiones['region'].append(campos[2])\n",
    "    dicc_emisiones['anio'].append(campos[3])\n",
    "    dicc_emisiones['co2'].append(campos[4])\n",
    "    dicc_emisiones['co2_percapita'].append(campos[5])\n",
    "    "
   ]
  },
  {
   "cell_type": "code",
   "execution_count": 179,
   "metadata": {},
   "outputs": [
    {
     "name": "stdout",
     "output_type": "stream",
     "text": [
      "1691634.8009999995\n"
     ]
    }
   ],
   "source": [
    "contador = 0\n",
    "for indice,( zona, anios, co2) in enumerate(zip(dicc_emisiones['region'], dicc_emisiones['anio'], dicc_emisiones['co2'])):\n",
    "        if(zona == 'América Latina y Caribe' and anios == '2010' ):\n",
    "                co2 = co2.replace('\\n', '')\n",
    "                co2 = co2.replace('.', '')\n",
    "                co2 = co2.replace(',', '.')\n",
    "                if(co2 != ''):\n",
    "                        co2 = float(co2)\n",
    "                        contador += co2\n",
    "print(contador)"
   ]
  },
  {
   "cell_type": "markdown",
   "metadata": {},
   "source": [
    "2) a) ¿Cuántas variables hay? <br>\n",
    "b) ¿Qué tipos de datos usar para cada una? <br>\n",
    "c) ¿Qué tipo de variables son? <br>\n",
    "d) ¿Hay valores faltantes? <br>\n",
    "e) ¿Cuál es el total de emisiones de CO2 para 'América Latina y Caribe' en el año 2010?"
   ]
  }
 ],
 "metadata": {
  "kernelspec": {
   "display_name": "Python 3.10.5 64-bit",
   "language": "python",
   "name": "python3"
  },
  "language_info": {
   "codemirror_mode": {
    "name": "ipython",
    "version": 3
   },
   "file_extension": ".py",
   "mimetype": "text/x-python",
   "name": "python",
   "nbconvert_exporter": "python",
   "pygments_lexer": "ipython3",
   "version": "3.11.5"
  },
  "orig_nbformat": 4,
  "vscode": {
   "interpreter": {
    "hash": "bb63a77499ed5899fffa71b49f0fc3f4df2c625891c3993c985b13a523c87e61"
   }
  }
 },
 "nbformat": 4,
 "nbformat_minor": 2
}

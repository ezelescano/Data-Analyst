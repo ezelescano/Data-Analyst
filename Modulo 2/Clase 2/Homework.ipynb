{
 "cells": [
  {
   "cell_type": "markdown",
   "metadata": {},
   "source": [
    "# Práctica Clase 2"
   ]
  },
  {
   "cell_type": "markdown",
   "metadata": {},
   "source": [
    "1) Abrir el archivo \"Emisiones_CO2.csv\" y cargar sus datos en un diccionario."
   ]
  },
  {
   "cell_type": "code",
   "execution_count": 15,
   "metadata": {},
   "outputs": [],
   "source": [
    "import os\n",
    "archivo = open('Emisiones_CO2.csv', 'r', encoding='utf-8')\n"
   ]
  },
  {
   "cell_type": "code",
   "execution_count": 16,
   "metadata": {},
   "outputs": [],
   "source": [
    "dicc_emisiones = {  'cod_pais' : [],\n",
    "                    'nom_pais' : [],\n",
    "                    'region' : [],\n",
    "                    'anio' : [],\n",
    "                    'co2' : [],\n",
    "                    'co2_percapita' : []}\n"
   ]
  },
  {
   "cell_type": "code",
   "execution_count": 17,
   "metadata": {},
   "outputs": [
    {
     "ename": "UnicodeDecodeError",
     "evalue": "'utf-8' codec can't decode byte 0xf3 in position 1: invalid continuation byte",
     "output_type": "error",
     "traceback": [
      "\u001b[1;31m---------------------------------------------------------------------------\u001b[0m",
      "\u001b[1;31mUnicodeDecodeError\u001b[0m                        Traceback (most recent call last)",
      "\u001b[1;32mc:\\Users\\eze_l\\Desktop\\Data Analyst\\Modulo 2\\Clase 2\\Homework.ipynb Cell 5\u001b[0m line \u001b[0;36m2\n\u001b[0;32m      <a href='vscode-notebook-cell:/c%3A/Users/eze_l/Desktop/Data%20Analyst/Modulo%202/Clase%202/Homework.ipynb#W5sZmlsZQ%3D%3D?line=0'>1</a>\u001b[0m encabezado \u001b[39m=\u001b[39m \u001b[39mTrue\u001b[39;00m\n\u001b[1;32m----> <a href='vscode-notebook-cell:/c%3A/Users/eze_l/Desktop/Data%20Analyst/Modulo%202/Clase%202/Homework.ipynb#W5sZmlsZQ%3D%3D?line=1'>2</a>\u001b[0m \u001b[39mfor\u001b[39;00m linea \u001b[39min\u001b[39;00m archivo:\n\u001b[0;32m      <a href='vscode-notebook-cell:/c%3A/Users/eze_l/Desktop/Data%20Analyst/Modulo%202/Clase%202/Homework.ipynb#W5sZmlsZQ%3D%3D?line=2'>3</a>\u001b[0m     \u001b[39mif\u001b[39;00m (\u001b[39mnot\u001b[39;00m encabezado):\n\u001b[0;32m      <a href='vscode-notebook-cell:/c%3A/Users/eze_l/Desktop/Data%20Analyst/Modulo%202/Clase%202/Homework.ipynb#W5sZmlsZQ%3D%3D?line=3'>4</a>\u001b[0m         campos \u001b[39m=\u001b[39m linea\u001b[39m.\u001b[39msplit(sep\u001b[39m=\u001b[39m\u001b[39m'\u001b[39m\u001b[39m|\u001b[39m\u001b[39m'\u001b[39m)\n",
      "File \u001b[1;32m<frozen codecs>:322\u001b[0m, in \u001b[0;36mdecode\u001b[1;34m(self, input, final)\u001b[0m\n",
      "\u001b[1;31mUnicodeDecodeError\u001b[0m: 'utf-8' codec can't decode byte 0xf3 in position 1: invalid continuation byte"
     ]
    }
   ],
   "source": [
    "encabezado = True\n",
    "for linea in archivo:\n",
    "    if (not encabezado):\n",
    "        campos = linea.split(sep='|')\n",
    "        dicc_emisiones['cod_pais'].append(campos[0])\n",
    "        dicc_emisiones['nom_pais'].append(campos[1])\n",
    "        dicc_emisiones['region'].append(campos[2])\n",
    "        dicc_emisiones['anio'].append(campos[3])\n",
    "        dicc_emisiones['co2'].append(campos[4])\n",
    "        dicc_emisiones['co2_percapita'].append(campos[5])\n",
    "    else:\n",
    "        encabezado = False"
   ]
  },
  {
   "cell_type": "markdown",
   "metadata": {},
   "source": [
    "2) a) ¿Cuántas variables hay? <br>\n",
    "b) ¿Qué tipos de datos usar para cada una? <br>\n",
    "c) ¿Qué tipo de variables son? <br>\n",
    "d) ¿Hay valores faltantes? <br>\n",
    "e) ¿Cuál es el total de emisiones de CO2 para 'América Latina y Caribe' en el año 2010?"
   ]
  }
 ],
 "metadata": {
  "kernelspec": {
   "display_name": "Python 3.10.5 64-bit",
   "language": "python",
   "name": "python3"
  },
  "language_info": {
   "codemirror_mode": {
    "name": "ipython",
    "version": 3
   },
   "file_extension": ".py",
   "mimetype": "text/x-python",
   "name": "python",
   "nbconvert_exporter": "python",
   "pygments_lexer": "ipython3",
   "version": "3.11.5"
  },
  "orig_nbformat": 4,
  "vscode": {
   "interpreter": {
    "hash": "bb63a77499ed5899fffa71b49f0fc3f4df2c625891c3993c985b13a523c87e61"
   }
  }
 },
 "nbformat": 4,
 "nbformat_minor": 2
}

{
 "cells": [
  {
   "attachments": {},
   "cell_type": "markdown",
   "metadata": {},
   "source": [
    "## Clases y Programación Orientada a Objetos"
   ]
  },
  {
   "attachments": {},
   "cell_type": "markdown",
   "metadata": {},
   "source": [
    "1) Crear la clase vehículo que contenga los atributos:<br>\n",
    "Color<br>\n",
    "Si es moto, auto, camioneta ó camión<br>\n",
    "Cilindrada del motor"
   ]
  },
  {
   "cell_type": "code",
   "execution_count": 64,
   "metadata": {},
   "outputs": [],
   "source": [
    "class Vehiculo :\n",
    "    def __init__(self, color, tipo_de_vehiculo, motor):\n",
    "        self.color = color\n",
    "        self = tipo_de_vehiculo\n",
    "        motor = motor"
   ]
  },
  {
   "attachments": {},
   "cell_type": "markdown",
   "metadata": {},
   "source": [
    "2) A la clase Vehiculo creada en el punto 1, agregar los siguientes métodos:<br>\n",
    "Acelerar<br>\n",
    "Frenar<br>\n",
    "Doblar<br>"
   ]
  },
  {
   "cell_type": "code",
   "execution_count": 65,
   "metadata": {},
   "outputs": [],
   "source": [
    "class Vehiculo :\n",
    "    def __init__(self, color, tipo_de_vehiculo, motor):\n",
    "        self.color = color\n",
    "        self.tipo_de_vehiculo = tipo_de_vehiculo\n",
    "        self.motor = motor\n",
    "        self.velocidad= 0\n",
    "        self.direccion = 0\n",
    "        \n",
    "    def acelerar(self, vel):\n",
    "        self.velocidad += vel\n",
    "    def frenar(self, vel):\n",
    "        self.velocidad -= vel\n",
    "    def doblar(self, grados):\n",
    "        self.direccion += grados\n",
    "    \n",
    "    def presentar(self):\n",
    "        print(f\"El colo es: {self.color}, es un {self.tipo_de_vehiculo} y la cilindrada es: {self.motor}\")\n",
    "\n",
    "    def estado(self):\n",
    "        print(f\"La velocidad del vehiculo es {self.velocidad} y la direccion {self.direccion}\")"
   ]
  },
  {
   "attachments": {},
   "cell_type": "markdown",
   "metadata": {},
   "source": [
    "3) Instanciar 3 objetos de la clase vehículo y ejecutar sus métodos, probar luego el resultado"
   ]
  },
  {
   "cell_type": "code",
   "execution_count": 66,
   "metadata": {},
   "outputs": [],
   "source": [
    "vehiculo_uno = Vehiculo(\"Rojo\", \"moto\", 125)\n",
    "vehiculo_dos = Vehiculo(\"gris\", \"auto\", 1.5)\n",
    "vehiculo_tres = Vehiculo(\"blanco\", \"camioneta\", 6.0)"
   ]
  },
  {
   "cell_type": "code",
   "execution_count": 67,
   "metadata": {},
   "outputs": [],
   "source": [
    "vehiculo_uno.acelerar(60)\n",
    "vehiculo_dos.acelerar(79)\n",
    "vehiculo_tres.acelerar(120)\n",
    "\n",
    "vehiculo_uno.doblar(30)\n",
    "vehiculo_dos.doblar(23)\n",
    "\n",
    "\n",
    "\n",
    "vehiculo_tres.frenar(80)"
   ]
  },
  {
   "attachments": {},
   "cell_type": "markdown",
   "metadata": {},
   "source": [
    "4) Agregar a la clase Vehiculo, un método que muestre su estado, es decir, a que velocidad se encuentra y su dirección. Y otro método que muestre color, tipo y cilindrada"
   ]
  },
  {
   "cell_type": "code",
   "execution_count": 68,
   "metadata": {},
   "outputs": [
    {
     "name": "stdout",
     "output_type": "stream",
     "text": [
      "El colo es: Rojo, es un moto y la cilindrada es: 125\n",
      "La velocidad del vehiculo es 79 y la direccion 23\n"
     ]
    }
   ],
   "source": [
    "vehiculo_uno.presentar()\n",
    "vehiculo_dos.estado()"
   ]
  },
  {
   "attachments": {},
   "cell_type": "markdown",
   "metadata": {},
   "source": [
    "5) Crear una clase que permita utilizar las funciones creadas en la práctica del módulo 7<br>\n",
    "Verificar Primo<br>\n",
    "Valor modal<br>\n",
    "Conversión grados<br>\n",
    "Factorial<br>"
   ]
  },
  {
   "cell_type": "code",
   "execution_count": 86,
   "metadata": {},
   "outputs": [],
   "source": [
    "class Metodos:\n",
    "    def __init__(self) -> None:\n",
    "        pass\n",
    "    \n",
    "    def primo( self, prim):\n",
    "        inicio = 1\n",
    "        total=0 \n",
    "        while (inicio < prim +1):\n",
    "            if((prim % inicio) == 0):\n",
    "                total = total +1\n",
    "            inicio = inicio+1\n",
    "        if(total == 2):\n",
    "            return True \n",
    "        else:\n",
    "    \n",
    "            return False \n",
    "    \n",
    "    def conversor_de_grados(self, valor, medida_origen, medida_destino):\n",
    "        if(medida_origen == medida_destino):\n",
    "            return valor\n",
    "        elif(medida_origen == \"celsius\"  and  medida_destino == \"farenheit\" ):\n",
    "            return (valor * 9/5) + 32\n",
    "        elif (medida_origen == \"celsius\" and medida_destino == \"kelvin\"):\n",
    "            return valor + 273.15\n",
    "        elif (medida_destino == \"farenheit\" and medida_destino == \"celsius\"):\n",
    "            result = (valor - 32) * 5/9\n",
    "            return round(result, 2)\n",
    "        elif (medida_origen == \"farenheit\" and medida_destino == \"kelvin\"):\n",
    "            result = ((valor - 32) * 5/9 )+ 273.15\n",
    "            return round(result, 2)\n",
    "        elif(medida_origen == \"kelvin\" and medida_destino == \"celsius\"):\n",
    "            result = valor - 273.15\n",
    "            return round(result, 2)\n",
    "        elif (medida_origen == \"kelvin\" and medida_destino == \"farenheit\"):\n",
    "            result = (valor - 273.15) * 9/5 +32\n",
    "            return round(result, 2)   \n",
    "     \n",
    "    \n",
    "    def factorial(self, numero):\n",
    "        if(type(numero) ==  float or numero < 0):\n",
    "            print(\"El numero tiene que ser entero y mayor a 0\")\n",
    "        elif (numero <= 1):\n",
    "            return 1\n",
    "        else:\n",
    "            result = numero * self.factorial(numero - 1)\n",
    "        return result\n",
    "    \n",
    "    def valor_modal(self, lista):\n",
    "        lista_unicos = []\n",
    "        lista_repeticiones = []\n",
    "        if len(lista) == 0:\n",
    "            return None\n",
    "        for elemento in lista:\n",
    "            if elemento in lista_unicos:\n",
    "                i = lista_unicos.index(elemento)\n",
    "                lista_repeticiones[i] += 1\n",
    "            else:\n",
    "                lista_unicos.append(elemento)\n",
    "                lista_repeticiones.append(1)\n",
    "        moda = lista_unicos[0]\n",
    "        maximo = lista_repeticiones[0]\n",
    "        for i, elemento in enumerate(lista_unicos):\n",
    "            if lista_repeticiones[i] > maximo:\n",
    "                moda = lista_unicos[i]\n",
    "                maximo = lista_repeticiones[i]\n",
    "        return moda, maximo"
   ]
  },
  {
   "attachments": {},
   "cell_type": "markdown",
   "metadata": {},
   "source": [
    "6) Probar las funciones incorporadas en la clase del punto 5"
   ]
  },
  {
   "cell_type": "code",
   "execution_count": 85,
   "metadata": {},
   "outputs": [
    {
     "name": "stdout",
     "output_type": "stream",
     "text": [
      "True\n",
      "77.0\n",
      "120\n"
     ]
    }
   ],
   "source": [
    "instancia_metodos = Metodos()\n",
    "result = instancia_metodos.primo(5)\n",
    "print(result)\n",
    "\n",
    "result_dos = instancia_metodos.conversor_de_grados(25, \"celsius\", \"farenheit\")\n",
    "print(result_dos)\n",
    "\n",
    "result_tres = instancia_metodos.factorial(5)\n",
    "print(result_tres)"
   ]
  },
  {
   "attachments": {},
   "cell_type": "markdown",
   "metadata": {},
   "source": [
    "7) Crear un archivo .py aparte y ubicar allí la clase generada en el punto anterior. Luego realizar la importación del módulo y probar alguna de sus funciones"
   ]
  },
  {
   "cell_type": "code",
   "execution_count": null,
   "metadata": {},
   "outputs": [],
   "source": [
    "from metodos import *"
   ]
  },
  {
   "cell_type": "code",
   "execution_count": 87,
   "metadata": {},
   "outputs": [
    {
     "name": "stdout",
     "output_type": "stream",
     "text": [
      "120\n"
     ]
    }
   ],
   "source": [
    "metodos_del_archivo = Metodos()\n",
    "\n",
    "result_cuatro = metodos_del_archivo.factorial(5)\n",
    "print(result_cuatro)"
   ]
  }
 ],
 "metadata": {
  "interpreter": {
   "hash": "c85384e4cb51c8b72350f3a8712cc8351fdc3955e32a27f9b60c6242ab125f01"
  },
  "kernelspec": {
   "display_name": "Python 3 (ipykernel)",
   "language": "python",
   "name": "python3"
  },
  "language_info": {
   "codemirror_mode": {
    "name": "ipython",
    "version": 3
   },
   "file_extension": ".py",
   "mimetype": "text/x-python",
   "name": "python",
   "nbconvert_exporter": "python",
   "pygments_lexer": "ipython3",
   "version": "3.11.5"
  }
 },
 "nbformat": 4,
 "nbformat_minor": 4
}

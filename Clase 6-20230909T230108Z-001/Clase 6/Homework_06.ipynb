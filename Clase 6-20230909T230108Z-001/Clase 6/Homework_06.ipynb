{
 "cells": [
  {
   "cell_type": "code",
   "execution_count": 1,
   "metadata": {},
   "outputs": [
    {
     "name": "stdout",
     "output_type": "stream",
     "text": [
      "1 plata\n",
      "2 oro\n",
      "3 platino\n",
      "4 mercurio\n",
      "5 cobro\n"
     ]
    }
   ],
   "source": [
    "# iterables e oteradores ; \n",
    "metales = [\"plata\", \"oro\", \"platino\", \"mercurio\", \"cobro\"]\n",
    "\n",
    "# for each\n",
    "# for metal in metales:\n",
    "#   print(metal)\n",
    "\n",
    "for indice, valor in enumerate(metales, 1) :\n",
    "    print(indice, valor)"
   ]
  },
  {
   "cell_type": "code",
   "execution_count": 3,
   "metadata": {},
   "outputs": [
    {
     "name": "stdout",
     "output_type": "stream",
     "text": [
      "15\n",
      "20\n"
     ]
    }
   ],
   "source": [
    "# funciones\n",
    "def suma (a, b):#estos son parametros, argumentos son los valors que le paso\n",
    "    print(a +b)#esta retorna nada, pero me ejecuta un proceso\n",
    "\n",
    "def suma2(a, b):\n",
    "    return a+b#esta retorna un valor\n",
    "\n",
    "suma(8, 7)\n",
    "suma2(8, 7)\n",
    "\n",
    "suma (4, suma2(8, 8))#funcion de orden superior, la superior es la de afuera, ya que llama a una funcion\n",
    "\n"
   ]
  },
  {
   "cell_type": "code",
   "execution_count": null,
   "metadata": {},
   "outputs": [],
   "source": [
    "# Quini 6. Realizar un juego en el que yo ingreso 6 n�meros que se almacenan en una lista (funci�n input()). Luego la computadora elije 6 n�meros\n",
    "#  al azar entre 0 y 15 (establecer un control para asegurarnos de que no se repiten). Entonces la computadora me tiene que informar cu�ntos \n",
    "# aciertos tuve de la manera que cada uno quiera, y cu�les fueron los n�meros �ganadores�.\n",
    "# list Comprendation"
   ]
  },
  {
   "attachments": {},
   "cell_type": "markdown",
   "metadata": {},
   "source": [
    "## Clases y Programación Orientada a Objetos"
   ]
  },
  {
   "cell_type": "code",
   "execution_count": 4,
   "metadata": {},
   "outputs": [],
   "source": [
    "from random import randint#modulo imortado "
   ]
  },
  {
   "cell_type": "code",
   "execution_count": 1,
   "metadata": {},
   "outputs": [],
   "source": [
    "def validadora(elemento):\n",
    "    while not elemento.isdigit() or int(elemento) > 15:\n",
    "        elemento = input(\"Lo que ingresaste no es un numero entero o no esta en rango(0-15) proba de nuevo: \")\n",
    "        return int(elemento)"
   ]
  },
  {
   "cell_type": "code",
   "execution_count": 3,
   "metadata": {},
   "outputs": [
    {
     "name": "stdout",
     "output_type": "stream",
     "text": [
      "Ese numero ya lo elegiste\n",
      "Ese numero ya lo elegiste\n",
      "Ese numero ya lo elegiste\n",
      "Ese numero ya lo elegiste\n",
      "Ese numero ya lo elegiste\n",
      "Ese numero ya lo elegiste\n",
      "Ese numero ya lo elegiste\n",
      "Ese numero ya lo elegiste\n",
      "Ese numero ya lo elegiste\n",
      "Ese numero ya lo elegiste\n",
      "Ese numero ya lo elegiste\n",
      "Ese numero ya lo elegiste\n",
      "Ese numero ya lo elegiste\n",
      "Ese numero ya lo elegiste\n",
      "Ese numero ya lo elegiste\n",
      "Ese numero ya lo elegiste\n",
      "Ese numero ya lo elegiste\n",
      "Ese numero ya lo elegiste\n"
     ]
    }
   ],
   "source": [
    "mis_nums = []\n",
    "sorte = []\n",
    "aciertos = []\n",
    "\n",
    "#Elijo mis numeros\n",
    "while (len(mis_nums) < 6):\n",
    "    num = validadora(input(\"Elije tus numero entre 0 y 15: \"))\n",
    "    if num not in mis_nums : mis_nums.append(num)\n",
    "    else: print(\"Ese numero ya lo elegiste\")\n",
    "print(\"Tus numeor: \", mis_nums)"
   ]
  },
  {
   "cell_type": "code",
   "execution_count": 10,
   "metadata": {},
   "outputs": [
    {
     "name": "stdout",
     "output_type": "stream",
     "text": [
      "los numeros sorteados fueron:  [14, 9, 12, 0, 10, 4]\n"
     ]
    }
   ],
   "source": [
    "#Sorteo\n",
    "while (len(sorte) < 6):\n",
    "    numero_azar = randint(0, 15)\n",
    "    if numero_azar not in sorte: sorte.append(numero_azar)\n",
    "print(\"los numeros sorteados fueron: \", sorte)"
   ]
  },
  {
   "cell_type": "code",
   "execution_count": 11,
   "metadata": {},
   "outputs": [
    {
     "name": "stdout",
     "output_type": "stream",
     "text": [
      "Acertaste este numero:  12\n",
      "Acertaste este numero:  9\n",
      "Tus aciertos fueron:  [12, 9]\n"
     ]
    }
   ],
   "source": [
    "#Aciertos\n",
    "for numero in mis_nums:\n",
    "    if numero in sorte:\n",
    "        aciertos.append(numero)\n",
    "        print(\"Acertaste este numero: \", numero)\n",
    "print(\"Tus aciertos fueron: \", aciertos)"
   ]
  },
  {
   "attachments": {},
   "cell_type": "markdown",
   "metadata": {},
   "source": [
    "1) Crear la clase vehículo que contenga los atributos:<br>\n",
    "Color<br>\n",
    "Si es moto, auto, camioneta ó camión<br>\n",
    "Cilindrada del motor"
   ]
  },
  {
   "cell_type": "code",
   "execution_count": 64,
   "metadata": {},
   "outputs": [],
   "source": [
    "class Vehiculo :\n",
    "    def __init__(self, color, tipo_de_vehiculo, motor):\n",
    "        self.color = color\n",
    "        self = tipo_de_vehiculo\n",
    "        motor = motor"
   ]
  },
  {
   "attachments": {},
   "cell_type": "markdown",
   "metadata": {},
   "source": [
    "2) A la clase Vehiculo creada en el punto 1, agregar los siguientes métodos:<br>\n",
    "Acelerar<br>\n",
    "Frenar<br>\n",
    "Doblar<br>"
   ]
  },
  {
   "cell_type": "code",
   "execution_count": 65,
   "metadata": {},
   "outputs": [],
   "source": [
    "class Vehiculo :\n",
    "    def __init__(self, color, tipo_de_vehiculo, motor):\n",
    "        self.color = color\n",
    "        self.tipo_de_vehiculo = tipo_de_vehiculo\n",
    "        self.motor = motor\n",
    "        self.velocidad= 0\n",
    "        self.direccion = 0\n",
    "        \n",
    "    def acelerar(self, vel):\n",
    "        self.velocidad += vel\n",
    "    def frenar(self, vel):\n",
    "        self.velocidad -= vel\n",
    "    def doblar(self, grados):\n",
    "        self.direccion += grados\n",
    "    \n",
    "    def presentar(self):\n",
    "        print(f\"El colo es: {self.color}, es un {self.tipo_de_vehiculo} y la cilindrada es: {self.motor}\")\n",
    "\n",
    "    def estado(self):\n",
    "        print(f\"La velocidad del vehiculo es {self.velocidad} y la direccion {self.direccion}\")"
   ]
  },
  {
   "attachments": {},
   "cell_type": "markdown",
   "metadata": {},
   "source": [
    "3) Instanciar 3 objetos de la clase vehículo y ejecutar sus métodos, probar luego el resultado"
   ]
  },
  {
   "cell_type": "code",
   "execution_count": 66,
   "metadata": {},
   "outputs": [],
   "source": [
    "vehiculo_uno = Vehiculo(\"Rojo\", \"moto\", 125)\n",
    "vehiculo_dos = Vehiculo(\"gris\", \"auto\", 1.5)\n",
    "vehiculo_tres = Vehiculo(\"blanco\", \"camioneta\", 6.0)"
   ]
  },
  {
   "cell_type": "code",
   "execution_count": 67,
   "metadata": {},
   "outputs": [],
   "source": [
    "vehiculo_uno.acelerar(60)\n",
    "vehiculo_dos.acelerar(79)\n",
    "vehiculo_tres.acelerar(120)\n",
    "\n",
    "vehiculo_uno.doblar(30)\n",
    "vehiculo_dos.doblar(23)\n",
    "\n",
    "\n",
    "\n",
    "vehiculo_tres.frenar(80)"
   ]
  },
  {
   "attachments": {},
   "cell_type": "markdown",
   "metadata": {},
   "source": [
    "4) Agregar a la clase Vehiculo, un método que muestre su estado, es decir, a que velocidad se encuentra y su dirección. Y otro método que muestre color, tipo y cilindrada"
   ]
  },
  {
   "cell_type": "code",
   "execution_count": 68,
   "metadata": {},
   "outputs": [
    {
     "name": "stdout",
     "output_type": "stream",
     "text": [
      "El colo es: Rojo, es un moto y la cilindrada es: 125\n",
      "La velocidad del vehiculo es 79 y la direccion 23\n"
     ]
    }
   ],
   "source": [
    "vehiculo_uno.presentar()\n",
    "vehiculo_dos.estado()"
   ]
  },
  {
   "attachments": {},
   "cell_type": "markdown",
   "metadata": {},
   "source": [
    "5) Crear una clase que permita utilizar las funciones creadas en la práctica del módulo 7<br>\n",
    "Verificar Primo<br>\n",
    "Valor modal<br>\n",
    "Conversión grados<br>\n",
    "Factorial<br>"
   ]
  },
  {
   "cell_type": "code",
   "execution_count": 86,
   "metadata": {},
   "outputs": [],
   "source": [
    "class Metodos:\n",
    "    def __init__(self) -> None:\n",
    "        pass\n",
    "    \n",
    "    def primo( self, prim):\n",
    "        inicio = 1\n",
    "        total=0 \n",
    "        while (inicio < prim +1):\n",
    "            if((prim % inicio) == 0):\n",
    "                total = total +1\n",
    "            inicio = inicio+1\n",
    "        if(total == 2):\n",
    "            return True \n",
    "        else:\n",
    "    \n",
    "            return False \n",
    "    \n",
    "    def conversor_de_grados(self, valor, medida_origen, medida_destino):\n",
    "        if(medida_origen == medida_destino):\n",
    "            return valor\n",
    "        elif(medida_origen == \"celsius\"  and  medida_destino == \"farenheit\" ):\n",
    "            return (valor * 9/5) + 32\n",
    "        elif (medida_origen == \"celsius\" and medida_destino == \"kelvin\"):\n",
    "            return valor + 273.15\n",
    "        elif (medida_destino == \"farenheit\" and medida_destino == \"celsius\"):\n",
    "            result = (valor - 32) * 5/9\n",
    "            return round(result, 2)\n",
    "        elif (medida_origen == \"farenheit\" and medida_destino == \"kelvin\"):\n",
    "            result = ((valor - 32) * 5/9 )+ 273.15\n",
    "            return round(result, 2)\n",
    "        elif(medida_origen == \"kelvin\" and medida_destino == \"celsius\"):\n",
    "            result = valor - 273.15\n",
    "            return round(result, 2)\n",
    "        elif (medida_origen == \"kelvin\" and medida_destino == \"farenheit\"):\n",
    "            result = (valor - 273.15) * 9/5 +32\n",
    "            return round(result, 2)   \n",
    "     \n",
    "    \n",
    "    def factorial(self, numero):\n",
    "        if(type(numero) ==  float or numero < 0):\n",
    "            print(\"El numero tiene que ser entero y mayor a 0\")\n",
    "        elif (numero <= 1):\n",
    "            return 1\n",
    "        else:\n",
    "            result = numero * self.factorial(numero - 1)\n",
    "        return result\n",
    "    \n",
    "    def valor_modal(self, lista):\n",
    "        lista_unicos = []\n",
    "        lista_repeticiones = []\n",
    "        if len(lista) == 0:\n",
    "            return None\n",
    "        for elemento in lista:\n",
    "            if elemento in lista_unicos:\n",
    "                i = lista_unicos.index(elemento)\n",
    "                lista_repeticiones[i] += 1\n",
    "            else:\n",
    "                lista_unicos.append(elemento)\n",
    "                lista_repeticiones.append(1)\n",
    "        moda = lista_unicos[0]\n",
    "        maximo = lista_repeticiones[0]\n",
    "        for i, elemento in enumerate(lista_unicos):\n",
    "            if lista_repeticiones[i] > maximo:\n",
    "                moda = lista_unicos[i]\n",
    "                maximo = lista_repeticiones[i]\n",
    "        return moda, maximo"
   ]
  },
  {
   "attachments": {},
   "cell_type": "markdown",
   "metadata": {},
   "source": [
    "6) Probar las funciones incorporadas en la clase del punto 5"
   ]
  },
  {
   "cell_type": "code",
   "execution_count": 85,
   "metadata": {},
   "outputs": [
    {
     "name": "stdout",
     "output_type": "stream",
     "text": [
      "True\n",
      "77.0\n",
      "120\n"
     ]
    }
   ],
   "source": [
    "instancia_metodos = Metodos()\n",
    "result = instancia_metodos.primo(5)\n",
    "print(result)\n",
    "\n",
    "result_dos = instancia_metodos.conversor_de_grados(25, \"celsius\", \"farenheit\")\n",
    "print(result_dos)\n",
    "\n",
    "result_tres = instancia_metodos.factorial(5)\n",
    "print(result_tres)"
   ]
  },
  {
   "attachments": {},
   "cell_type": "markdown",
   "metadata": {},
   "source": [
    "7) Crear un archivo .py aparte y ubicar allí la clase generada en el punto anterior. Luego realizar la importación del módulo y probar alguna de sus funciones"
   ]
  },
  {
   "cell_type": "code",
   "execution_count": null,
   "metadata": {},
   "outputs": [],
   "source": [
    "from metodos import *"
   ]
  },
  {
   "cell_type": "code",
   "execution_count": 87,
   "metadata": {},
   "outputs": [
    {
     "name": "stdout",
     "output_type": "stream",
     "text": [
      "120\n"
     ]
    }
   ],
   "source": [
    "metodos_del_archivo = Metodos()\n",
    "\n",
    "result_cuatro = metodos_del_archivo.factorial(5)\n",
    "print(result_cuatro)"
   ]
  },
  {
   "cell_type": "code",
   "execution_count": 1,
   "metadata": {},
   "outputs": [],
   "source": [
    "class Persona:\n",
    "    def __init__(self, nom, ape):\n",
    "        #self.__nombre = nom estan encapsulados, solo se puede modificar o acceder a traves de un metodo que este en la clase\n",
    "        #self.__apellido = ape\n",
    "        self.nombre = nom\n",
    "        self.apellido = ape\n",
    "\n",
    "    def imprimirNombre(self):\n",
    "        print(self.nombre, self.apellido)\n",
    "\n",
    "persona1 = Persona(\"grabriel\", \"Diaz\")"
   ]
  },
  {
   "cell_type": "code",
   "execution_count": 2,
   "metadata": {},
   "outputs": [],
   "source": [
    "#Herencia\n",
    "class Estudiante(Persona):#en una nueva clase hereda los atributos y metodos de personas\n",
    "    def __init__(self, nom, ape, carr):\n",
    "        super().__init__(nom, ape)\n",
    "        self.carrera = carr\n",
    "    def mostrarCarrera(self):\n",
    "        print(self.carrera)"
   ]
  },
  {
   "cell_type": "code",
   "execution_count": 3,
   "metadata": {},
   "outputs": [
    {
     "name": "stdout",
     "output_type": "stream",
     "text": [
      "Ezequiel Lescano\n",
      "Ingenieria Informatica\n"
     ]
    }
   ],
   "source": [
    "alumno = Estudiante(\"Ezequiel\", \"Lescano\", \"Ingenieria Informatica\")\n",
    "alumno.imprimirNombre()\n",
    "alumno.mostrarCarrera()\n"
   ]
  }
 ],
 "metadata": {
  "interpreter": {
   "hash": "c85384e4cb51c8b72350f3a8712cc8351fdc3955e32a27f9b60c6242ab125f01"
  },
  "kernelspec": {
   "display_name": "Python 3 (ipykernel)",
   "language": "python",
   "name": "python3"
  },
  "language_info": {
   "codemirror_mode": {
    "name": "ipython",
    "version": 3
   },
   "file_extension": ".py",
   "mimetype": "text/x-python",
   "name": "python",
   "nbconvert_exporter": "python",
   "pygments_lexer": "ipython3",
   "version": "3.11.5"
  }
 },
 "nbformat": 4,
 "nbformat_minor": 4
}
